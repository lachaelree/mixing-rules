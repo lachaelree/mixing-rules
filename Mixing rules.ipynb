{
 "cells": [
  {
   "cell_type": "markdown",
   "id": "60e5b9f8",
   "metadata": {},
   "source": [
    "What is in this notebook:\n",
    "\n",
    "Four different functions representing four self proposed mixing rules\n",
    "\n",
    "These functions predict/calculate a mixed solvent's activity coefficient from two single solvents' activity coefficient "
   ]
  },
  {
   "cell_type": "code",
   "execution_count": 1,
   "id": "0c275322",
   "metadata": {},
   "outputs": [],
   "source": [
    "# Needed libraries\n",
    "\n",
    "from matplotlib import pyplot as plt\n",
    "import numpy as np\n",
    "import pandas as pd\n",
    "import math\n",
    "from scipy.optimize import curve_fit\n",
    "from scipy import integrate\n",
    "from sklearn.metrics import mean_squared_error"
   ]
  },
  {
   "cell_type": "markdown",
   "id": "3523bb2e",
   "metadata": {},
   "source": [
    "## 1. $\\gamma_\\pm$ average by mass fraction of solvents"
   ]
  },
  {
   "cell_type": "code",
   "execution_count": 2,
   "id": "54a38bd8",
   "metadata": {},
   "outputs": [],
   "source": [
    "def mass(gamma_A,gamma_B,r,massfrac_B):\n",
    "    \"\"\"\n",
    "    inputs: gamma_A = (array or Series) activity coefficient of salt in solvent A\n",
    "            gamma_B = (array or Series) activity coefficient of salt in solvent B\n",
    "            r = (int) mass percentage of solvent B in mixed solvents A+B that we are calculating for\n",
    "            massfrac_B = (int) 100 if we have 2 pure solvents gamma values, not 100 if we only have mixed solvents A+B values\n",
    "    \"\"\"\n",
    "    avg_mass = (1 - r/massfrac_B)*gamma_A + (r/massfrac_B)*gamma_B\n",
    "    return avg_mass"
   ]
  },
  {
   "cell_type": "markdown",
   "id": "a7491ed9",
   "metadata": {},
   "source": [
    "## 2. $\\gamma_\\pm$ average by mole fraction of solvents"
   ]
  },
  {
   "cell_type": "code",
   "execution_count": 4,
   "id": "29eefc06",
   "metadata": {},
   "outputs": [],
   "source": [
    "def mole(gamma_A,gamma_B,r,massfrac_B,M_A,M_B):\n",
    "    \"\"\"\n",
    "    inputs: gamma_A = (array or Series) activity coefficient of salt in solvent A\n",
    "            gamma_B = (array or Series) activity coefficient of salt in solvent B\n",
    "            r = (int) mass percentage of solvent B in mixed solvents A+B that we are calculating for\n",
    "            molefrac_B = (int) 100 if we have 2 pure solvents gamma values, not 100 if we only have mixed solvents A+B values\n",
    "            M_A = molecular mass of solvent A (g/mol)\n",
    "            M_B = molecular mass of solvent B (g/mol)\n",
    "    \"\"\"\n",
    "    if massfrac_B == 100: \n",
    "        mol_A = (1 - r/100)/(M_A)\n",
    "        mol_B = (r/100)/(M_B)\n",
    "        ratio_B = mol_B/mol_A\n",
    "        total_molratio_B = ratio_B+1\n",
    "        y = ratio_B/total_molratio_B\n",
    "        \n",
    "        avg_mole = (1 - y)*gamma_A + (y)*gamma_B\n",
    "    else:\n",
    "        # calculate the mole ratio for the mixed solvents whose data we will use in the average calculation\n",
    "        mol_A = (1 - massfrac_B/100)/(M_A)\n",
    "        mol_B = (massfrac_B/100)/(M_B)\n",
    "        ratio_B = mol_B/mol_A\n",
    "        total_molratio_B = ratio_B+1\n",
    "        x = ratio_B/total_molratio_B\n",
    "        \n",
    "        mol_A = (1 - r/100)/(M_A)\n",
    "        mol_B = (r/100)/(M_B)\n",
    "        ratio_B = mol_B/mol_A\n",
    "        total_molratio_B = ratio_B+1\n",
    "        y = ratio_B/total_molratio_B\n",
    "        \n",
    "        avg_mole = (1 - (1/x)*y)*gamma_A + (1/x)*(y)*gamma_B\n",
    "        \n",
    "    return avg_mole"
   ]
  },
  {
   "cell_type": "markdown",
   "id": "0f04a541",
   "metadata": {},
   "source": [
    "## 3. $RT\\ ln\\ activity$ average by mass fraction of solvents"
   ]
  },
  {
   "cell_type": "code",
   "execution_count": 7,
   "id": "aa1821e0",
   "metadata": {},
   "outputs": [],
   "source": [
    "def RTlna(gamma_A,gamma_B,r,massfrac_B,conc):\n",
    "    \"\"\"\n",
    "    inputs: gamma_A = (array or Series) activity coefficient of salt in solvent A\n",
    "            gamma_B = (array or Series) activity coefficient of salt in solvent B\n",
    "            r = (int) mass percentage of solvent B in mixed solvents A+B that we are calculating for\n",
    "            conc = concentration range corresponding to the experimental gamma_A and gamma_B values\n",
    "            massfrac_B = (int) 100 if we have 2 pure solvents gamma values, not 100 if we only have mixed solvents A+B values\n",
    "    \"\"\"\n",
    "    RT = 8.314*298 # if Temperature at which experimental data was taken was at room temperature\n",
    "    avg = (1 - r/massfrac_B)*RT*conc*gamma_A + (r/massfrac_B)*RT*conc*gamma_B\n",
    "    return avg"
   ]
  },
  {
   "cell_type": "markdown",
   "id": "5257f072",
   "metadata": {},
   "source": [
    "## 4. Pitzer parameter average by mass fraction of solvents"
   ]
  },
  {
   "cell_type": "code",
   "execution_count": null,
   "id": "24aa02b8",
   "metadata": {},
   "outputs": [],
   "source": [
    "def f_gamma(Aphi,conc,a,b):\n",
    "    f = -Aphi*((np.sqrt(conc)/(1+b*np.sqrt(conc)))+((2/b)*np.log(1+b*np.sqrt(conc))))\n",
    "    return f\n",
    "\n",
    "def B_gamma(beta0,beta1,conc,a,b):\n",
    "    b = 2*beta0 + (2*beta1/a**2*conc)*(1-(1+a*np.sqrt(conc)-a**2*conc/2)*np.exp(-a*np.sqrt(conc)))\n",
    "    return b\n",
    "\n",
    "def C_gamma(Cphi):\n",
    "    c = 1.5*Cphi\n",
    "    return c\n",
    "\n",
    "def AC(Aphi,beta0,beta1,Cphi,conc,a,b):\n",
    "    lnAC = f_gamma(Aphi,conc,a,b)+B_gamma(beta0,beta1,conc,a,b)*conc+C_gamma(Cphi)*(conc)**2\n",
    "    return np.exp(lnAC)\n",
    "\n",
    "def pitzeravg(B0_A,B0_B,B1_A,B1_B,Cphi_A,Cphi0_B,r,massfrac_B,conc,Aphi,a,b):\n",
    "    \"\"\"\n",
    "    This function takes the average of pitzer parameters B0, B1, and Cphi by mass fraction, and then calculating\n",
    "    the activity coefficient of the mixed solvents data for a chosen concentration range \"conc\"\n",
    "    inputs: pitzer_A = (array or Series) pitzer parameters of salt in solvent A\n",
    "            pitzer_B = (array or Series) pitzer parameters of salt in solvent B\n",
    "            r = (int) mass percentage of solvent B in mixed solvents A+B that we are calculating for\n",
    "            conc = chosen concentration range \n",
    "            massfrac_B = (int) 100 if we have 2 pure solvents gamma values, not 100 if we only have mixed solvents A+B values\n",
    "    \"\"\"\n",
    "    avg_B0 = (1 - r/massfrac_B)*B0_A + (r/massfrac_B)*B0_B\n",
    "    avg_B1 = (1 - r/massfrac_B)*B1_A + (r/massfrac_B)*B1_B\n",
    "    avg_Cphi0 = (1 - r/massfrac_B)*Cphi0_A + (r/massfrac_B)*Cphi0_B\n",
    "    ans = AC(Aphi,avg_B0,avg_B1,avg_Cphi,conc,a,b)\n",
    "    return ans"
   ]
  }
 ],
 "metadata": {
  "kernelspec": {
   "display_name": "Python 3",
   "language": "python",
   "name": "python3"
  },
  "language_info": {
   "codemirror_mode": {
    "name": "ipython",
    "version": 3
   },
   "file_extension": ".py",
   "mimetype": "text/x-python",
   "name": "python",
   "nbconvert_exporter": "python",
   "pygments_lexer": "ipython3",
   "version": "3.8.8"
  }
 },
 "nbformat": 4,
 "nbformat_minor": 5
}
